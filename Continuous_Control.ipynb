{
 "cells": [
  {
   "cell_type": "markdown",
   "metadata": {},
   "source": [
    "# Continuous Control\n",
    "\n",
    "---\n",
    "\n",
    "You are welcome to use this coding environment to train your agent for the project.  Follow the instructions below to get started!\n",
    "\n",
    "### 1. Start the Environment\n",
    "\n",
    "Run the next code cell to install a few packages.  This line will take a few minutes to run!"
   ]
  },
  {
   "cell_type": "code",
   "execution_count": 1,
   "metadata": {},
   "outputs": [
    {
     "name": "stdout",
     "output_type": "stream",
     "text": [
      "\u001b[31mtensorflow 1.7.1 has requirement numpy>=1.13.3, but you'll have numpy 1.12.1 which is incompatible.\u001b[0m\r\n",
      "\u001b[31mipython 6.5.0 has requirement prompt-toolkit<2.0.0,>=1.0.15, but you'll have prompt-toolkit 3.0.5 which is incompatible.\u001b[0m\r\n"
     ]
    }
   ],
   "source": [
    "!pip -q install ./python"
   ]
  },
  {
   "cell_type": "markdown",
   "metadata": {},
   "source": [
    "The environments corresponding to both versions of the environment are already saved in the Workspace and can be accessed at the file paths provided below.  \n",
    "\n",
    "Please select one of the two options below for loading the environment."
   ]
  },
  {
   "cell_type": "code",
   "execution_count": 8,
   "metadata": {},
   "outputs": [
    {
     "ename": "OSError",
     "evalue": "handle is closed",
     "output_type": "error",
     "traceback": [
      "\u001b[0;31m---------------------------------------------------------------------------\u001b[0m",
      "\u001b[0;31mOSError\u001b[0m                                   Traceback (most recent call last)",
      "\u001b[0;32m<ipython-input-8-04cf2f8b50d2>\u001b[0m in \u001b[0;36m<module>\u001b[0;34m()\u001b[0m\n\u001b[1;32m      3\u001b[0m \u001b[0;34m\u001b[0m\u001b[0m\n\u001b[1;32m      4\u001b[0m \u001b[0;31m# select this option to load version 1 (with a single agent) of the environment\u001b[0m\u001b[0;34m\u001b[0m\u001b[0;34m\u001b[0m\u001b[0m\n\u001b[0;32m----> 5\u001b[0;31m \u001b[0menv\u001b[0m \u001b[0;34m=\u001b[0m \u001b[0mUnityEnvironment\u001b[0m\u001b[0;34m(\u001b[0m\u001b[0mfile_name\u001b[0m\u001b[0;34m=\u001b[0m\u001b[0;34m'/data/Reacher_One_Linux_NoVis/Reacher_One_Linux_NoVis.x86_64'\u001b[0m\u001b[0;34m)\u001b[0m\u001b[0;34m\u001b[0m\u001b[0m\n\u001b[0m\u001b[1;32m      6\u001b[0m \u001b[0;34m\u001b[0m\u001b[0m\n\u001b[1;32m      7\u001b[0m \u001b[0;31m# select this option to load version 2 (with 20 agents) of the environment\u001b[0m\u001b[0;34m\u001b[0m\u001b[0;34m\u001b[0m\u001b[0m\n",
      "\u001b[0;32m/opt/conda/lib/python3.6/site-packages/unityagents/environment.py\u001b[0m in \u001b[0;36m__init__\u001b[0;34m(self, file_name, worker_id, base_port, curriculum, seed, docker_training, no_graphics)\u001b[0m\n\u001b[1;32m     62\u001b[0m         )\n\u001b[1;32m     63\u001b[0m         \u001b[0;32mtry\u001b[0m\u001b[0;34m:\u001b[0m\u001b[0;34m\u001b[0m\u001b[0m\n\u001b[0;32m---> 64\u001b[0;31m             \u001b[0maca_params\u001b[0m \u001b[0;34m=\u001b[0m \u001b[0mself\u001b[0m\u001b[0;34m.\u001b[0m\u001b[0msend_academy_parameters\u001b[0m\u001b[0;34m(\u001b[0m\u001b[0mrl_init_parameters_in\u001b[0m\u001b[0;34m)\u001b[0m\u001b[0;34m\u001b[0m\u001b[0m\n\u001b[0m\u001b[1;32m     65\u001b[0m         \u001b[0;32mexcept\u001b[0m \u001b[0mUnityTimeOutException\u001b[0m\u001b[0;34m:\u001b[0m\u001b[0;34m\u001b[0m\u001b[0m\n\u001b[1;32m     66\u001b[0m             \u001b[0mself\u001b[0m\u001b[0;34m.\u001b[0m\u001b[0m_close\u001b[0m\u001b[0;34m(\u001b[0m\u001b[0;34m)\u001b[0m\u001b[0;34m\u001b[0m\u001b[0m\n",
      "\u001b[0;32m/opt/conda/lib/python3.6/site-packages/unityagents/environment.py\u001b[0m in \u001b[0;36msend_academy_parameters\u001b[0;34m(self, init_parameters)\u001b[0m\n\u001b[1;32m    503\u001b[0m         \u001b[0minputs\u001b[0m \u001b[0;34m=\u001b[0m \u001b[0mUnityInput\u001b[0m\u001b[0;34m(\u001b[0m\u001b[0;34m)\u001b[0m\u001b[0;34m\u001b[0m\u001b[0m\n\u001b[1;32m    504\u001b[0m         \u001b[0minputs\u001b[0m\u001b[0;34m.\u001b[0m\u001b[0mrl_initialization_input\u001b[0m\u001b[0;34m.\u001b[0m\u001b[0mCopyFrom\u001b[0m\u001b[0;34m(\u001b[0m\u001b[0minit_parameters\u001b[0m\u001b[0;34m)\u001b[0m\u001b[0;34m\u001b[0m\u001b[0m\n\u001b[0;32m--> 505\u001b[0;31m         \u001b[0;32mreturn\u001b[0m \u001b[0mself\u001b[0m\u001b[0;34m.\u001b[0m\u001b[0mcommunicator\u001b[0m\u001b[0;34m.\u001b[0m\u001b[0minitialize\u001b[0m\u001b[0;34m(\u001b[0m\u001b[0minputs\u001b[0m\u001b[0;34m)\u001b[0m\u001b[0;34m.\u001b[0m\u001b[0mrl_initialization_output\u001b[0m\u001b[0;34m\u001b[0m\u001b[0m\n\u001b[0m\u001b[1;32m    506\u001b[0m \u001b[0;34m\u001b[0m\u001b[0m\n\u001b[1;32m    507\u001b[0m     \u001b[0;32mdef\u001b[0m \u001b[0mwrap_unity_input\u001b[0m\u001b[0;34m(\u001b[0m\u001b[0mself\u001b[0m\u001b[0;34m,\u001b[0m \u001b[0mrl_input\u001b[0m\u001b[0;34m:\u001b[0m \u001b[0mUnityRLInput\u001b[0m\u001b[0;34m)\u001b[0m \u001b[0;34m->\u001b[0m \u001b[0mUnityOutput\u001b[0m\u001b[0;34m:\u001b[0m\u001b[0;34m\u001b[0m\u001b[0m\n",
      "\u001b[0;32m/opt/conda/lib/python3.6/site-packages/unityagents/rpc_communicator.py\u001b[0m in \u001b[0;36minitialize\u001b[0;34m(self, inputs)\u001b[0m\n\u001b[1;32m     56\u001b[0m                 \u001b[0;34m\"You may need to manually close a previously opened environment \"\u001b[0m\u001b[0;34m\u001b[0m\u001b[0m\n\u001b[1;32m     57\u001b[0m                 \"or use a different worker number.\".format(str(self.worker_id)))\n\u001b[0;32m---> 58\u001b[0;31m         \u001b[0;32mif\u001b[0m \u001b[0;32mnot\u001b[0m \u001b[0mself\u001b[0m\u001b[0;34m.\u001b[0m\u001b[0munity_to_external\u001b[0m\u001b[0;34m.\u001b[0m\u001b[0mparent_conn\u001b[0m\u001b[0;34m.\u001b[0m\u001b[0mpoll\u001b[0m\u001b[0;34m(\u001b[0m\u001b[0;36m30\u001b[0m\u001b[0;34m)\u001b[0m\u001b[0;34m:\u001b[0m\u001b[0;34m\u001b[0m\u001b[0m\n\u001b[0m\u001b[1;32m     59\u001b[0m             raise UnityTimeOutException(\n\u001b[1;32m     60\u001b[0m                 \u001b[0;34m\"The Unity environment took too long to respond. Make sure that :\\n\"\u001b[0m\u001b[0;34m\u001b[0m\u001b[0m\n",
      "\u001b[0;32m/opt/conda/lib/python3.6/multiprocessing/connection.py\u001b[0m in \u001b[0;36mpoll\u001b[0;34m(self, timeout)\u001b[0m\n\u001b[1;32m    253\u001b[0m     \u001b[0;32mdef\u001b[0m \u001b[0mpoll\u001b[0m\u001b[0;34m(\u001b[0m\u001b[0mself\u001b[0m\u001b[0;34m,\u001b[0m \u001b[0mtimeout\u001b[0m\u001b[0;34m=\u001b[0m\u001b[0;36m0.0\u001b[0m\u001b[0;34m)\u001b[0m\u001b[0;34m:\u001b[0m\u001b[0;34m\u001b[0m\u001b[0m\n\u001b[1;32m    254\u001b[0m         \u001b[0;34m\"\"\"Whether there is any input available to be read\"\"\"\u001b[0m\u001b[0;34m\u001b[0m\u001b[0m\n\u001b[0;32m--> 255\u001b[0;31m         \u001b[0mself\u001b[0m\u001b[0;34m.\u001b[0m\u001b[0m_check_closed\u001b[0m\u001b[0;34m(\u001b[0m\u001b[0;34m)\u001b[0m\u001b[0;34m\u001b[0m\u001b[0m\n\u001b[0m\u001b[1;32m    256\u001b[0m         \u001b[0mself\u001b[0m\u001b[0;34m.\u001b[0m\u001b[0m_check_readable\u001b[0m\u001b[0;34m(\u001b[0m\u001b[0;34m)\u001b[0m\u001b[0;34m\u001b[0m\u001b[0m\n\u001b[1;32m    257\u001b[0m         \u001b[0;32mreturn\u001b[0m \u001b[0mself\u001b[0m\u001b[0;34m.\u001b[0m\u001b[0m_poll\u001b[0m\u001b[0;34m(\u001b[0m\u001b[0mtimeout\u001b[0m\u001b[0;34m)\u001b[0m\u001b[0;34m\u001b[0m\u001b[0m\n",
      "\u001b[0;32m/opt/conda/lib/python3.6/multiprocessing/connection.py\u001b[0m in \u001b[0;36m_check_closed\u001b[0;34m(self)\u001b[0m\n\u001b[1;32m    134\u001b[0m     \u001b[0;32mdef\u001b[0m \u001b[0m_check_closed\u001b[0m\u001b[0;34m(\u001b[0m\u001b[0mself\u001b[0m\u001b[0;34m)\u001b[0m\u001b[0;34m:\u001b[0m\u001b[0;34m\u001b[0m\u001b[0m\n\u001b[1;32m    135\u001b[0m         \u001b[0;32mif\u001b[0m \u001b[0mself\u001b[0m\u001b[0;34m.\u001b[0m\u001b[0m_handle\u001b[0m \u001b[0;32mis\u001b[0m \u001b[0;32mNone\u001b[0m\u001b[0;34m:\u001b[0m\u001b[0;34m\u001b[0m\u001b[0m\n\u001b[0;32m--> 136\u001b[0;31m             \u001b[0;32mraise\u001b[0m \u001b[0mOSError\u001b[0m\u001b[0;34m(\u001b[0m\u001b[0;34m\"handle is closed\"\u001b[0m\u001b[0;34m)\u001b[0m\u001b[0;34m\u001b[0m\u001b[0m\n\u001b[0m\u001b[1;32m    137\u001b[0m \u001b[0;34m\u001b[0m\u001b[0m\n\u001b[1;32m    138\u001b[0m     \u001b[0;32mdef\u001b[0m \u001b[0m_check_readable\u001b[0m\u001b[0;34m(\u001b[0m\u001b[0mself\u001b[0m\u001b[0;34m)\u001b[0m\u001b[0;34m:\u001b[0m\u001b[0;34m\u001b[0m\u001b[0m\n",
      "\u001b[0;31mOSError\u001b[0m: handle is closed"
     ]
    },
    {
     "name": "stderr",
     "output_type": "stream",
     "text": [
      "ERROR:root:Exception calling application: [Errno 32] Broken pipe\n",
      "Traceback (most recent call last):\n",
      "  File \"/opt/conda/lib/python3.6/site-packages/grpc/_server.py\", line 385, in _call_behavior\n",
      "    return behavior(argument, context), True\n",
      "  File \"/opt/conda/lib/python3.6/site-packages/unityagents/rpc_communicator.py\", line 25, in Exchange\n",
      "    self.child_conn.send(request)\n",
      "  File \"/opt/conda/lib/python3.6/multiprocessing/connection.py\", line 206, in send\n",
      "    self._send_bytes(_ForkingPickler.dumps(obj))\n",
      "  File \"/opt/conda/lib/python3.6/multiprocessing/connection.py\", line 404, in _send_bytes\n",
      "    self._send(header + buf)\n",
      "  File \"/opt/conda/lib/python3.6/multiprocessing/connection.py\", line 368, in _send\n",
      "    n = write(self._handle, buf)\n",
      "BrokenPipeError: [Errno 32] Broken pipe\n"
     ]
    }
   ],
   "source": [
    "from unityagents import UnityEnvironment\n",
    "import numpy as np\n",
    "\n",
    "# select this option to load version 1 (with a single agent) of the environment\n",
    "env = UnityEnvironment(file_name='/data/Reacher_One_Linux_NoVis/Reacher_One_Linux_NoVis.x86_64')\n",
    "\n",
    "# select this option to load version 2 (with 20 agents) of the environment\n",
    "# env = UnityEnvironment(file_name='/data/Reacher_Linux_NoVis/Reacher.x86_64')"
   ]
  },
  {
   "cell_type": "markdown",
   "metadata": {},
   "source": [
    "Environments contain **_brains_** which are responsible for deciding the actions of their associated agents. Here we check for the first brain available, and set it as the default brain we will be controlling from Python."
   ]
  },
  {
   "cell_type": "code",
   "execution_count": 3,
   "metadata": {},
   "outputs": [],
   "source": [
    "# get the default brain\n",
    "brain_name = env.brain_names[0]\n",
    "brain = env.brains[brain_name]"
   ]
  },
  {
   "cell_type": "markdown",
   "metadata": {},
   "source": [
    "### 2. Examine the State and Action Spaces\n",
    "\n",
    "Run the code cell below to print some information about the environment."
   ]
  },
  {
   "cell_type": "code",
   "execution_count": 4,
   "metadata": {},
   "outputs": [
    {
     "name": "stdout",
     "output_type": "stream",
     "text": [
      "Number of agents: 1\n",
      "Size of each action: 4\n",
      "There are 1 agents. Each observes a state with length: 33\n",
      "The state for the first agent looks like: [  0.00000000e+00  -4.00000000e+00   0.00000000e+00   1.00000000e+00\n",
      "  -0.00000000e+00  -0.00000000e+00  -4.37113883e-08   0.00000000e+00\n",
      "   0.00000000e+00   0.00000000e+00   0.00000000e+00   0.00000000e+00\n",
      "   0.00000000e+00   0.00000000e+00  -1.00000000e+01   0.00000000e+00\n",
      "   1.00000000e+00  -0.00000000e+00  -0.00000000e+00  -4.37113883e-08\n",
      "   0.00000000e+00   0.00000000e+00   0.00000000e+00   0.00000000e+00\n",
      "   0.00000000e+00   0.00000000e+00   5.75471878e+00  -1.00000000e+00\n",
      "   5.55726671e+00   0.00000000e+00   1.00000000e+00   0.00000000e+00\n",
      "  -1.68164849e-01]\n"
     ]
    }
   ],
   "source": [
    "# reset the environment\n",
    "env_info = env.reset(train_mode=True)[brain_name]\n",
    "\n",
    "# number of agents\n",
    "num_agents = len(env_info.agents)\n",
    "print('Number of agents:', num_agents)\n",
    "\n",
    "# size of each action\n",
    "action_size = brain.vector_action_space_size\n",
    "print('Size of each action:', action_size)\n",
    "\n",
    "# examine the state space \n",
    "states = env_info.vector_observations\n",
    "state_size = states.shape[1]\n",
    "print('There are {} agents. Each observes a state with length: {}'.format(states.shape[0], state_size))\n",
    "print('The state for the first agent looks like:', states[0])"
   ]
  },
  {
   "cell_type": "markdown",
   "metadata": {},
   "source": [
    "### 3. Take Random Actions in the Environment\n",
    "\n",
    "In the next code cell, you will learn how to use the Python API to control the agent and receive feedback from the environment.\n",
    "\n",
    "Note that **in this coding environment, you will not be able to watch the agents while they are training**, and you should set `train_mode=True` to restart the environment."
   ]
  },
  {
   "cell_type": "code",
   "execution_count": 5,
   "metadata": {},
   "outputs": [
    {
     "name": "stdout",
     "output_type": "stream",
     "text": [
      "Total score (averaged over agents) this episode: 0.6899999845772982\n"
     ]
    }
   ],
   "source": [
    "env_info = env.reset(train_mode=True)[brain_name]      # reset the environment    \n",
    "states = env_info.vector_observations                  # get the current state (for each agent)\n",
    "scores = np.zeros(num_agents)                          # initialize the score (for each agent)\n",
    "while True:\n",
    "    actions = np.random.randn(num_agents, action_size) # select an action (for each agent)\n",
    "    actions = np.clip(actions, -1, 1)                  # all actions between -1 and 1\n",
    "    env_info = env.step(actions)[brain_name]           # send all actions to tne environment\n",
    "    next_states = env_info.vector_observations         # get next state (for each agent)\n",
    "    rewards = env_info.rewards                         # get reward (for each agent)\n",
    "    dones = env_info.local_done                        # see if episode finished\n",
    "    scores += env_info.rewards                         # update the score (for each agent)\n",
    "    states = next_states                               # roll over states to next time step\n",
    "    if np.any(dones):                                  # exit loop if episode finished\n",
    "        break\n",
    "print('Total score (averaged over agents) this episode: {}'.format(np.mean(scores)))"
   ]
  },
  {
   "cell_type": "markdown",
   "metadata": {},
   "source": [
    "When finished, you can close the environment."
   ]
  },
  {
   "cell_type": "code",
   "execution_count": 6,
   "metadata": {},
   "outputs": [],
   "source": [
    "env.close()"
   ]
  },
  {
   "cell_type": "markdown",
   "metadata": {},
   "source": [
    "### 4. It's Your Turn!\n",
    "\n",
    "Now it's your turn to train your own agent to solve the environment!  A few **important notes**:\n",
    "- When training the environment, set `train_mode=True`, so that the line for resetting the environment looks like the following:\n",
    "```python\n",
    "env_info = env.reset(train_mode=True)[brain_name]\n",
    "```\n",
    "- To structure your work, you're welcome to work directly in this Jupyter notebook, or you might like to start over with a new file!  You can see the list of files in the workspace by clicking on **_Jupyter_** in the top left corner of the notebook.\n",
    "- In this coding environment, you will not be able to watch the agents while they are training.  However, **_after training the agents_**, you can download the saved model weights to watch the agents on your own machine! "
   ]
  },
  {
   "cell_type": "code",
   "execution_count": 1,
   "metadata": {},
   "outputs": [
    {
     "name": "stdout",
     "output_type": "stream",
     "text": [
      "\u001b[31mtensorflow 1.7.1 has requirement numpy>=1.13.3, but you'll have numpy 1.12.1 which is incompatible.\u001b[0m\r\n",
      "\u001b[31mipython 6.5.0 has requirement prompt-toolkit<2.0.0,>=1.0.15, but you'll have prompt-toolkit 3.0.5 which is incompatible.\u001b[0m\r\n"
     ]
    }
   ],
   "source": [
    "!pip -q install ./python"
   ]
  },
  {
   "cell_type": "code",
   "execution_count": 2,
   "metadata": {},
   "outputs": [],
   "source": [
    "%load_ext autoreload\n",
    "%autoreload 2"
   ]
  },
  {
   "cell_type": "code",
   "execution_count": 2,
   "metadata": {},
   "outputs": [
    {
     "name": "stderr",
     "output_type": "stream",
     "text": [
      "INFO:unityagents:\n",
      "'Academy' started successfully!\n",
      "Unity Academy name: Academy\n",
      "        Number of Brains: 1\n",
      "        Number of External Brains : 1\n",
      "        Lesson number : 0\n",
      "        Reset Parameters :\n",
      "\t\tgoal_speed -> 1.0\n",
      "\t\tgoal_size -> 5.0\n",
      "Unity brain name: ReacherBrain\n",
      "        Number of Visual Observations (per agent): 0\n",
      "        Vector Observation space type: continuous\n",
      "        Vector Observation space size (per agent): 33\n",
      "        Number of stacked Vector Observation: 1\n",
      "        Vector Action space type: continuous\n",
      "        Vector Action space size (per agent): 4\n",
      "        Vector Action descriptions: , , , \n"
     ]
    }
   ],
   "source": [
    "from unityagents import UnityEnvironment\n",
    "\n",
    "env = UnityEnvironment(file_name='/data/Reacher_One_Linux_NoVis/Reacher_One_Linux_NoVis.x86_64')\n"
   ]
  },
  {
   "cell_type": "code",
   "execution_count": 3,
   "metadata": {},
   "outputs": [
    {
     "name": "stdout",
     "output_type": "stream",
     "text": [
      "Started training...\n",
      "Epoch: 1, score: 0.20999999530613422\n",
      "Epoch: 2, score: 0.29999999329447746\n",
      "Epoch: 3, score: 0.6799999848008156\n",
      "Epoch: 4, score: 0.6199999861419201\n",
      "Epoch: 5, score: 0.6499999854713678\n",
      "Epoch: 6, score: 0.9399999789893627\n",
      "Epoch: 7, score: 0.20999999530613422\n",
      "Epoch: 8, score: 0.5799999870359898\n",
      "Epoch: 9, score: 0.8299999814480543\n",
      "Epoch: 10, score: 1.9199999570846558\n",
      "Epoch: 10, average score: 0.6939999844878912\n",
      "Epoch: 11, score: 1.459999967366457\n",
      "Epoch: 12, score: 1.3199999704957008\n",
      "Epoch: 13, score: 0.0\n",
      "Epoch: 14, score: 1.6599999628961086\n",
      "Epoch: 15, score: 0.8999999798834324\n",
      "Epoch: 16, score: 3.1699999291449785\n",
      "Epoch: 17, score: 3.3399999253451824\n",
      "Epoch: 18, score: 1.4999999664723873\n",
      "Epoch: 19, score: 1.459999967366457\n",
      "Epoch: 20, score: 1.9699999559670687\n",
      "Epoch: 20, average score: 1.1859999734908342\n",
      "Epoch: 21, score: 1.769999960437417\n",
      "Epoch: 22, score: 3.589999919757247\n",
      "Epoch: 23, score: 1.4799999669194221\n",
      "Epoch: 24, score: 4.099999908357859\n",
      "Epoch: 25, score: 2.8399999365210533\n",
      "Epoch: 26, score: 7.509999832138419\n",
      "Epoch: 27, score: 2.059999953955412\n",
      "Epoch: 28, score: 3.1899999286979437\n",
      "Epoch: 29, score: 3.2599999271333218\n",
      "Epoch: 30, score: 6.679999850690365\n",
      "Epoch: 30, average score: 2.0066666218141713\n",
      "Epoch: 31, score: 5.879999868571758\n",
      "Epoch: 32, score: 5.589999875053763\n",
      "Epoch: 33, score: 5.589999875053763\n",
      "Epoch: 34, score: 8.47999981045723\n",
      "Epoch: 35, score: 6.9999998435378075\n",
      "Epoch: 36, score: 6.689999850466847\n",
      "Epoch: 37, score: 3.5099999215453863\n",
      "Epoch: 38, score: 10.349999768659472\n",
      "Epoch: 39, score: 8.199999816715717\n",
      "Epoch: 40, score: 3.8199999146163464\n",
      "Epoch: 40, average score: 3.1327499299775807\n",
      "Epoch: 41, score: 6.549999853596091\n",
      "Epoch: 42, score: 11.199999749660492\n",
      "Epoch: 43, score: 5.8499998692423105\n",
      "Epoch: 44, score: 8.28999981470406\n",
      "Epoch: 45, score: 5.019999887794256\n",
      "Epoch: 46, score: 8.679999805986881\n",
      "Epoch: 47, score: 11.159999750554562\n",
      "Epoch: 48, score: 10.06999977491796\n",
      "Epoch: 49, score: 11.61999974027276\n",
      "Epoch: 50, score: 14.09999968484044\n",
      "Epoch: 50, average score: 4.356999902613461\n",
      "Epoch: 51, score: 14.509999675676227\n",
      "Epoch: 52, score: 11.019999753683805\n",
      "Epoch: 53, score: 14.28999968059361\n",
      "Epoch: 54, score: 14.689999671652913\n",
      "Epoch: 55, score: 16.869999622926116\n",
      "Epoch: 56, score: 19.98999955318868\n",
      "Epoch: 57, score: 18.97999957576394\n",
      "Epoch: 58, score: 32.67999926954508\n",
      "Epoch: 59, score: 8.509999809786677\n",
      "Epoch: 60, score: 30.499999318271875\n",
      "Epoch: 60, average score: 6.6648331843627\n",
      "Epoch: 61, score: 17.639999605715275\n",
      "Epoch: 62, score: 22.719999492168427\n",
      "Epoch: 63, score: 26.159999415278435\n",
      "Epoch: 64, score: 17.729999603703618\n",
      "Epoch: 65, score: 18.929999576881528\n",
      "Epoch: 66, score: 26.6399994045496\n",
      "Epoch: 67, score: 13.509999698027968\n",
      "Epoch: 68, score: 16.30999963544309\n",
      "Epoch: 69, score: 39.479999117553234\n",
      "Epoch: 70, score: 32.86999926529825\n",
      "Epoch: 70, average score: 9.026856941091163\n",
      "Epoch: 71, score: 30.689999314025044\n",
      "Epoch: 72, score: 22.409999499097466\n",
      "Epoch: 73, score: 36.25999918952584\n",
      "Epoch: 74, score: 27.83999937772751\n",
      "Epoch: 75, score: 27.479999385774136\n",
      "Epoch: 76, score: 22.709999492391944\n",
      "Epoch: 77, score: 35.50999920628965\n",
      "Epoch: 78, score: 23.959999464452267\n",
      "Epoch: 79, score: 28.899999354034662\n",
      "Epoch: 80, score: 32.07999928295612\n",
      "Epoch: 80, average score: 11.496499743033201\n",
      "Epoch: 81, score: 31.979999285191298\n",
      "Epoch: 82, score: 33.53999925032258\n",
      "Epoch: 83, score: 35.63999920338392\n",
      "Epoch: 84, score: 33.79999924451113\n",
      "Epoch: 85, score: 32.05999928340316\n",
      "Epoch: 86, score: 33.72999924607575\n",
      "Epoch: 87, score: 32.25999927893281\n",
      "Epoch: 88, score: 32.92999926395714\n",
      "Epoch: 89, score: 39.4999991171062\n",
      "Epoch: 90, score: 39.14999912492931\n",
      "Epoch: 90, average score: 14.047888574894104\n",
      "Epoch: 91, score: 39.639999113976955\n",
      "Epoch: 92, score: 35.43999920785427\n",
      "Epoch: 93, score: 32.78999926708639\n",
      "Epoch: 94, score: 38.939999129623175\n",
      "Epoch: 95, score: 37.629999158903956\n",
      "Epoch: 96, score: 33.84999924339354\n",
      "Epoch: 97, score: 33.54999925009906\n",
      "Epoch: 98, score: 35.34999920986593\n",
      "Epoch: 99, score: 26.789999401196837\n",
      "Epoch: 100, score: 33.71999924629927\n",
      "Epoch: 100, average score: 16.120099639687687\n",
      "Epoch: 101, score: 34.45999922975898\n",
      "Epoch: 102, score: 35.19999921321869\n",
      "Epoch: 103, score: 37.739999156445265\n",
      "Epoch: 104, score: 36.63999918103218\n",
      "Epoch: 105, score: 35.4799992069602\n",
      "Epoch: 106, score: 37.629999158903956\n",
      "Epoch: 107, score: 36.11999919265509\n",
      "Epoch: 108, score: 30.27999932318926\n",
      "Epoch: 109, score: 39.41999911889434\n",
      "Epoch: 110, score: 37.2599991671741\n",
      "Epoch: 110, average score: 19.65299956072122\n",
      "Epoch: 111, score: 32.049999283626676\n",
      "Epoch: 112, score: 31.959999285638332\n",
      "Epoch: 113, score: 30.919999308884144\n",
      "Epoch: 114, score: 38.09999914839864\n",
      "Epoch: 115, score: 39.4999991171062\n",
      "Epoch: 116, score: 27.68999938108027\n",
      "Epoch: 117, score: 35.499999206513166\n",
      "Epoch: 118, score: 18.54999958537519\n",
      "Epoch: 119, score: 38.46999914012849\n",
      "Epoch: 120, score: 38.939999129623175\n",
      "Epoch: 120, average score: 22.801999490335582\n",
      "Epoch: 121, score: 30.66999931447208\n",
      "Epoch: 122, score: 37.47999916225672\n",
      "Epoch: 123, score: 35.339999210089445\n",
      "Epoch: 124, score: 32.509999273344874\n",
      "Epoch: 125, score: 31.469999296590686\n",
      "Epoch: 126, score: 35.689999202266335\n",
      "Epoch: 127, score: 38.48999913968146\n",
      "Epoch: 128, score: 23.729999469593167\n",
      "Epoch: 129, score: 35.36999920941889\n",
      "Epoch: 130, score: 34.49999922886491\n",
      "Epoch: 130, average score: 25.789699423555284\n",
      "Epoch: 131, score: 37.10999917052686\n",
      "Epoch: 132, score: 39.04999912716448\n",
      "Epoch: 133, score: 34.219999235123396\n",
      "Epoch: 134, score: 35.65999920293689\n",
      "Epoch: 135, score: 36.889999175444245\n",
      "Epoch: 136, score: 33.87999924272299\n",
      "Epoch: 137, score: 35.649999203160405\n",
      "Epoch: 138, score: 37.70999915711582\n",
      "Epoch: 139, score: 33.19999925792217\n",
      "Epoch: 140, score: 26.709999402984977\n",
      "Epoch: 140, average score: 28.639399359859524\n",
      "Epoch: 141, score: 36.98999917320907\n",
      "Epoch: 142, score: 31.429999297484756\n",
      "Epoch: 143, score: 39.18999912403524\n",
      "Epoch: 144, score: 30.58999931626022\n",
      "Epoch: 145, score: 32.629999270662665\n",
      "Epoch: 146, score: 36.71999917924404\n",
      "\n",
      "Environment solved in 146 episodes!\tAverage Score: 30.26\n"
     ]
    },
    {
     "data": {
      "image/png": "[encoded data removed]",
      "text/plain": [
       "<matplotlib.figure.Figure at 0x7fd43748f278>"
      ]
     },
     "metadata": {
      "needs_background": "light"
     },
     "output_type": "display_data"
    }
   ],
   "source": [
    "import torch\n",
    "import numpy as np\n",
    "from agent import Agent\n",
    "from collections import deque\n",
    "import matplotlib.pyplot as plt\n",
    "%matplotlib inline\n",
    "\n",
    "\n",
    "# get the default brain\n",
    "brain_name = env.brain_names[0]\n",
    "brain = env.brains[brain_name]\n",
    "\n",
    "# reset the environment\n",
    "env_info = env.reset(train_mode=True)[brain_name]\n",
    "# number of agents\n",
    "num_agents = len(env_info.agents)\n",
    "# size of each action\n",
    "action_size = brain.vector_action_space_size\n",
    "# state space: states.shape[0]-no. of agents, state of 1st agent: states[0], \n",
    "states = env_info.vector_observations\n",
    "state_size = states.shape[1] # state size\n",
    "\n",
    "\n",
    "scores_window = deque(maxlen=100)\n",
    "scores = []\n",
    "\n",
    "\n",
    "epochs = 1000   # Number of iterations\n",
    "max_t  = 10000  # Maximum length of an episode\n",
    "\n",
    "\n",
    "agent = Agent(state_size, action_size, 0)\n",
    "\n",
    "\n",
    "def training():\n",
    "    print(\"Started training...\")\n",
    "    epoch = 0\n",
    "    for epoch in range(1,epochs+1):\n",
    "        # reset the environment\n",
    "        env_info = env.reset(train_mode=True)[brain_name]\n",
    "        # reset the agent\n",
    "        agent.reset()\n",
    "        # get initial state \n",
    "        states = env_info.vector_observations\n",
    "        \n",
    "        score = 0\n",
    "        \n",
    "        for t in range(max_t):\n",
    "            actions = agent.act(states)\n",
    "            \n",
    "            env_info = env.step(actions)[brain_name] #.cpu().data.numpy() \n",
    "            \n",
    "            next_states = env_info.vector_observations[0]\n",
    "            rewards = env_info.rewards[0]\n",
    "            dones = env_info.local_done[0]\n",
    "            \n",
    "            agent.step(states, actions, rewards, next_states, dones)\n",
    "            \n",
    "            states = next_states\n",
    "            score += rewards\n",
    "            \n",
    "            if dones:\n",
    "                break\n",
    "            \n",
    "        scores.append(score)         # Scores for plot\n",
    "        scores_window.append(score)  # Just first agent\n",
    "                    \n",
    "        print(\"Epoch: {}, score: {}\".format(epoch, score))\n",
    "            \n",
    "        if epoch%10==0:\n",
    "            print(\"Epoch: {}, average score: {}\".format(epoch, np.mean(scores_window)))\n",
    "            \n",
    "        if np.mean(scores_window) >= 30.0:\n",
    "            print('\\nEnvironment solved in {:d} episodes!\\tAverage Score: {:.2f}'.format(epoch, np.mean(scores_window)))\n",
    "            torch.save(agent.critic_local.state_dict(),  'critic.pth')\n",
    "            torch.save(agent.critic_target.state_dict(), 'critic_target.pth')\n",
    "            torch.save(agent.actor_local.state_dict(),   'actor.pth')\n",
    "            torch.save(agent.actor_target.state_dict(),  'actor_target.pth')\n",
    "            break\n",
    "\n",
    "\n",
    "# Start training\n",
    "training()\n",
    "\n",
    "# Plot the scores\n",
    "fig = plt.figure()\n",
    "ax = fig.add_subplot(111)\n",
    "plt.plot(np.arange(1, len(scores)+1), scores)\n",
    "plt.ylabel('Score')\n",
    "plt.xlabel('Episode #')\n",
    "plt.show()"
   ]
  },
  {
   "cell_type": "code",
   "execution_count": null,
   "metadata": {},
   "outputs": [],
   "source": []
  }
 ],
 "metadata": {
  "kernelspec": {
   "display_name": "Python 3",
   "language": "python",
   "name": "python3"
  },
  "language_info": {
   "codemirror_mode": {
    "name": "ipython",
    "version": 3
   },
   "file_extension": ".py",
   "mimetype": "text/x-python",
   "name": "python",
   "nbconvert_exporter": "python",
   "pygments_lexer": "ipython3",
   "version": "3.6.3"
  }
 },
 "nbformat": 4,
 "nbformat_minor": 2
}
